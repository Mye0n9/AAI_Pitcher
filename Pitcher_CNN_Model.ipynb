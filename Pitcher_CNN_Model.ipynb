{
  "nbformat": 4,
  "nbformat_minor": 0,
  "metadata": {
    "colab": {
      "provenance": [],
      "gpuType": "T4",
      "include_colab_link": true
    },
    "kernelspec": {
      "name": "python3",
      "display_name": "Python 3"
    },
    "language_info": {
      "name": "python"
    },
    "accelerator": "GPU"
  },
  "cells": [
    {
      "cell_type": "markdown",
      "metadata": {
        "id": "view-in-github",
        "colab_type": "text"
      },
      "source": [
        "<a href=\"https://colab.research.google.com/github/Mye0n9/AAI_Pitcher/blob/main/Pitcher_CNN_Model.ipynb\" target=\"_parent\"><img src=\"https://colab.research.google.com/assets/colab-badge.svg\" alt=\"Open In Colab\"/></a>"
      ]
    },
    {
      "cell_type": "code",
      "execution_count": null,
      "metadata": {
        "id": "jGTsZG9IIVIc",
        "colab": {
          "base_uri": "https://localhost:8080/"
        },
        "outputId": "51a6c3e9-a9ef-4b8f-89f1-58d987903dc4"
      },
      "outputs": [
        {
          "output_type": "stream",
          "name": "stdout",
          "text": [
            "NumPy Version :1.22.4\n",
            "TensorFlow Version :2.12.0\n",
            "Matplotlib Version :3.7.1\n"
          ]
        }
      ],
      "source": [
        "import numpy as np\n",
        "import pandas as pd\n",
        "import tensorflow as tf\n",
        "import matplotlib.pyplot as plt\n",
        "import matplotlib.image as mpimg\n",
        "import matplotlib.patches as patches\n",
        "import glob\n",
        "import cv2\n",
        "import re\n",
        "import random\n",
        "import json\n",
        "import os\n",
        "from google.colab.patches import cv2_imshow\n",
        "\n",
        "\n",
        "print(\"NumPy Version :{}\".format(np.__version__))\n",
        "print(\"TensorFlow Version :{}\".format(tf.__version__))\n",
        "print(\"Matplotlib Version :{}\".format(plt.matplotlib.__version__))"
      ]
    },
    {
      "cell_type": "markdown",
      "source": [
        "Reading Data (Pickle Data)"
      ],
      "metadata": {
        "id": "YVswXe0TIo9j"
      }
    },
    {
      "cell_type": "code",
      "source": [
        "from google.colab import drive\n",
        "drive.mount('/content/drive')"
      ],
      "metadata": {
        "colab": {
          "base_uri": "https://localhost:8080/"
        },
        "id": "KKRX0mGO-heM",
        "outputId": "fe42e19b-7fe6-476f-a996-0fbcbae203e2"
      },
      "execution_count": null,
      "outputs": [
        {
          "output_type": "stream",
          "name": "stdout",
          "text": [
            "Mounted at /content/drive\n"
          ]
        }
      ]
    },
    {
      "cell_type": "code",
      "source": [
        "x_Data = []\n",
        "y_Data = []\n",
        "for i in range(256):\n",
        "  if i not in [96, 136, 146, 197, 220, 223]: # Bad data\n",
        "    f_path = '/content/drive/MyDrive/PKL_PITCHER/img_merged_{num}.pkl'.format(num = i) \n",
        "    df = pd.read_pickle(f_path) # Read the pkl file\n",
        "    for j in range(len(df)): # put in to x and y data: wrist = 0, elbow = 1, shoulder = 2\n",
        "      x_Data.append(df['wrist'][j])\n",
        "      y_Data.append(0.0)\n",
        "      x_Data.append(df['elbow'][j])\n",
        "      y_Data.append(1.0)\n",
        "      x_Data.append(df['shoulder'][j])\n",
        "      y_Data.append(2.0)\n",
        "\n",
        "x_Data = np.array(x_Data)\n",
        "y_Data = np.array(y_Data)"
      ],
      "metadata": {
        "id": "H0Eu4GsoIoxz"
      },
      "execution_count": null,
      "outputs": []
    },
    {
      "cell_type": "markdown",
      "source": [
        "Train/Test split"
      ],
      "metadata": {
        "id": "oobRCSAjIiWI"
      }
    },
    {
      "cell_type": "code",
      "source": [
        "from sklearn.model_selection import train_test_split\n",
        "\n",
        "x_train, x_test, y_train, y_test = train_test_split(x_Data, y_Data, test_size=0.2, random_state=42) # train, valid split"
      ],
      "metadata": {
        "id": "lP0-RSQDIjAQ"
      },
      "execution_count": null,
      "outputs": []
    },
    {
      "cell_type": "markdown",
      "source": [
        "Model"
      ],
      "metadata": {
        "id": "lGiBD3rfJeeD"
      }
    },
    {
      "cell_type": "code",
      "source": [
        "# Developing CNN Model\n",
        "IMG_SIZE = 32\n",
        "n_class = 3\n",
        "model = tf.keras.models.Sequential()\n",
        "# conv 1\n",
        "model.add(tf.keras.layers.Conv2D(64,3,padding='same',activation='relu',input_shape=(IMG_SIZE,IMG_SIZE,3)))\n",
        "model.add(tf.keras.layers.Dropout(rate=0.5))                          #  DO1\n",
        "model.add(tf.keras.layers.MaxPool2D(pool_size=2, strides=2))\n",
        "# conv 2\n",
        "model.add(tf.keras.layers.Conv2D(64, 3, padding='same', activation='relu'))\n",
        "model.add(tf.keras.layers.Dropout(rate=0.5))                          # DO2\n",
        "model.add(tf.keras.layers.MaxPool2D(pool_size=2, strides=2))\n",
        "# conv 3\n",
        "model.add(tf.keras.layers.Conv2D(64, 3, padding='same', activation='relu'))\n",
        "model.add(tf.keras.layers.Dropout(rate=0.5))                           # DO3\n",
        "model.add(tf.keras.layers.MaxPool2D(pool_size=2, strides=2))\n",
        "\n",
        "# dense layers\n",
        "model.add(tf.keras.layers.Flatten())\n",
        "model.add(tf.keras.layers.Dense(n_class, activation='softmax')) \n",
        "\n",
        "model.summary()"
      ],
      "metadata": {
        "id": "nsHrPcTeJe3p",
        "colab": {
          "base_uri": "https://localhost:8080/"
        },
        "outputId": "82d4ae92-6786-458c-a090-40968c52473f"
      },
      "execution_count": null,
      "outputs": [
        {
          "output_type": "stream",
          "name": "stdout",
          "text": [
            "Model: \"sequential_1\"\n",
            "_________________________________________________________________\n",
            " Layer (type)                Output Shape              Param #   \n",
            "=================================================================\n",
            " conv2d_3 (Conv2D)           (None, 32, 32, 64)        1792      \n",
            "                                                                 \n",
            " dropout_3 (Dropout)         (None, 32, 32, 64)        0         \n",
            "                                                                 \n",
            " max_pooling2d_3 (MaxPooling  (None, 16, 16, 64)       0         \n",
            " 2D)                                                             \n",
            "                                                                 \n",
            " conv2d_4 (Conv2D)           (None, 16, 16, 64)        36928     \n",
            "                                                                 \n",
            " dropout_4 (Dropout)         (None, 16, 16, 64)        0         \n",
            "                                                                 \n",
            " max_pooling2d_4 (MaxPooling  (None, 8, 8, 64)         0         \n",
            " 2D)                                                             \n",
            "                                                                 \n",
            " conv2d_5 (Conv2D)           (None, 8, 8, 64)          36928     \n",
            "                                                                 \n",
            " dropout_5 (Dropout)         (None, 8, 8, 64)          0         \n",
            "                                                                 \n",
            " max_pooling2d_5 (MaxPooling  (None, 4, 4, 64)         0         \n",
            " 2D)                                                             \n",
            "                                                                 \n",
            " flatten_1 (Flatten)         (None, 1024)              0         \n",
            "                                                                 \n",
            " dense_1 (Dense)             (None, 3)                 3075      \n",
            "                                                                 \n",
            "=================================================================\n",
            "Total params: 78,723\n",
            "Trainable params: 78,723\n",
            "Non-trainable params: 0\n",
            "_________________________________________________________________\n"
          ]
        }
      ]
    },
    {
      "cell_type": "code",
      "source": [
        "# Use three different Optimizers: SGD, Adam, Nadam\n",
        "model.compile(optimizer='Nadam',\n",
        "              loss='sparse_categorical_crossentropy',\n",
        "              metrics=['accuracy'])"
      ],
      "metadata": {
        "id": "MwJSh2aoJggx"
      },
      "execution_count": null,
      "outputs": []
    },
    {
      "cell_type": "code",
      "source": [
        "# Setting Early Stopping and Model Checkpoint\n",
        "saved_model = '../files/pitcher_cnn3_model.h5'\n",
        "es = tf.keras.callbacks.EarlyStopping(monitor='val_loss', mode='min', verbose=1, patience=20,restore_best_weights=True)\n",
        "mc = tf.keras.callbacks.ModelCheckpoint(saved_model, monitor='val_accuracy', mode='max', verbose=1, save_best_only=True)"
      ],
      "metadata": {
        "id": "mkAN9ufTJhyi"
      },
      "execution_count": null,
      "outputs": []
    },
    {
      "cell_type": "code",
      "source": [
        "# Fit\n",
        "history = model.fit(x_train, y_train, epochs=100,\n",
        "                      callbacks=[es,mc],\n",
        "                      validation_data=(x_test, y_test)\n",
        "                 )"
      ],
      "metadata": {
        "id": "qrPf4ZI1Ji1N",
        "colab": {
          "base_uri": "https://localhost:8080/"
        },
        "outputId": "8f5467a7-c6ef-4c86-80ea-320a823d922e"
      },
      "execution_count": null,
      "outputs": [
        {
          "output_type": "stream",
          "name": "stdout",
          "text": [
            "Epoch 1/100\n",
            "2036/2038 [============================>.] - ETA: 0s - loss: 1.0483 - accuracy: 0.4225\n",
            "Epoch 1: val_accuracy improved from -inf to 0.44038, saving model to ../files/pitcher_cnn3_model.h5\n",
            "2038/2038 [==============================] - 18s 7ms/step - loss: 1.0482 - accuracy: 0.4227 - val_loss: 1.0757 - val_accuracy: 0.4404\n",
            "Epoch 2/100\n",
            "2038/2038 [==============================] - ETA: 0s - loss: 1.0292 - accuracy: 0.4474\n",
            "Epoch 2: val_accuracy improved from 0.44038 to 0.44523, saving model to ../files/pitcher_cnn3_model.h5\n",
            "2038/2038 [==============================] - 13s 6ms/step - loss: 1.0292 - accuracy: 0.4474 - val_loss: 1.0707 - val_accuracy: 0.4452\n",
            "Epoch 3/100\n",
            "2038/2038 [==============================] - ETA: 0s - loss: 1.0234 - accuracy: 0.4527\n",
            "Epoch 3: val_accuracy did not improve from 0.44523\n",
            "2038/2038 [==============================] - 13s 6ms/step - loss: 1.0234 - accuracy: 0.4527 - val_loss: 1.0715 - val_accuracy: 0.4094\n",
            "Epoch 4/100\n",
            "2037/2038 [============================>.] - ETA: 0s - loss: 1.0207 - accuracy: 0.4568\n",
            "Epoch 4: val_accuracy did not improve from 0.44523\n",
            "2038/2038 [==============================] - 13s 7ms/step - loss: 1.0207 - accuracy: 0.4568 - val_loss: 1.0714 - val_accuracy: 0.4178\n",
            "Epoch 5/100\n",
            "2032/2038 [============================>.] - ETA: 0s - loss: 1.0152 - accuracy: 0.4618\n",
            "Epoch 5: val_accuracy did not improve from 0.44523\n",
            "2038/2038 [==============================] - 13s 7ms/step - loss: 1.0152 - accuracy: 0.4618 - val_loss: 1.0722 - val_accuracy: 0.3987\n",
            "Epoch 6/100\n",
            "2036/2038 [============================>.] - ETA: 0s - loss: 1.0116 - accuracy: 0.4652\n",
            "Epoch 6: val_accuracy did not improve from 0.44523\n",
            "2038/2038 [==============================] - 15s 7ms/step - loss: 1.0115 - accuracy: 0.4652 - val_loss: 1.0652 - val_accuracy: 0.4313\n",
            "Epoch 7/100\n",
            "2037/2038 [============================>.] - ETA: 0s - loss: 1.0079 - accuracy: 0.4670\n",
            "Epoch 7: val_accuracy did not improve from 0.44523\n",
            "2038/2038 [==============================] - 13s 6ms/step - loss: 1.0079 - accuracy: 0.4670 - val_loss: 1.0627 - val_accuracy: 0.4289\n",
            "Epoch 8/100\n",
            "2033/2038 [============================>.] - ETA: 0s - loss: 1.0043 - accuracy: 0.4714\n",
            "Epoch 8: val_accuracy did not improve from 0.44523\n",
            "2038/2038 [==============================] - 13s 6ms/step - loss: 1.0043 - accuracy: 0.4714 - val_loss: 1.0576 - val_accuracy: 0.4287\n",
            "Epoch 9/100\n",
            "2031/2038 [============================>.] - ETA: 0s - loss: 1.0039 - accuracy: 0.4733\n",
            "Epoch 9: val_accuracy did not improve from 0.44523\n",
            "2038/2038 [==============================] - 13s 6ms/step - loss: 1.0038 - accuracy: 0.4733 - val_loss: 1.0602 - val_accuracy: 0.4226\n",
            "Epoch 10/100\n",
            "2034/2038 [============================>.] - ETA: 0s - loss: 1.0006 - accuracy: 0.4764\n",
            "Epoch 10: val_accuracy did not improve from 0.44523\n",
            "2038/2038 [==============================] - 15s 7ms/step - loss: 1.0006 - accuracy: 0.4764 - val_loss: 1.0619 - val_accuracy: 0.4343\n",
            "Epoch 11/100\n",
            "2038/2038 [==============================] - ETA: 0s - loss: 0.9977 - accuracy: 0.4758\n",
            "Epoch 11: val_accuracy did not improve from 0.44523\n",
            "2038/2038 [==============================] - 14s 7ms/step - loss: 0.9977 - accuracy: 0.4758 - val_loss: 1.0597 - val_accuracy: 0.4152\n",
            "Epoch 12/100\n",
            "2030/2038 [============================>.] - ETA: 0s - loss: 0.9937 - accuracy: 0.4800\n",
            "Epoch 12: val_accuracy did not improve from 0.44523\n",
            "2038/2038 [==============================] - 14s 7ms/step - loss: 0.9937 - accuracy: 0.4799 - val_loss: 1.0689 - val_accuracy: 0.4133\n",
            "Epoch 13/100\n",
            "2036/2038 [============================>.] - ETA: 0s - loss: 0.9901 - accuracy: 0.4834\n",
            "Epoch 13: val_accuracy did not improve from 0.44523\n",
            "2038/2038 [==============================] - 14s 7ms/step - loss: 0.9901 - accuracy: 0.4834 - val_loss: 1.0649 - val_accuracy: 0.4146\n",
            "Epoch 14/100\n",
            "2032/2038 [============================>.] - ETA: 0s - loss: 0.9896 - accuracy: 0.4855\n",
            "Epoch 14: val_accuracy did not improve from 0.44523\n",
            "2038/2038 [==============================] - 13s 7ms/step - loss: 0.9896 - accuracy: 0.4856 - val_loss: 1.0685 - val_accuracy: 0.4057\n",
            "Epoch 15/100\n",
            "2031/2038 [============================>.] - ETA: 0s - loss: 0.9876 - accuracy: 0.4902\n",
            "Epoch 15: val_accuracy did not improve from 0.44523\n",
            "2038/2038 [==============================] - 13s 7ms/step - loss: 0.9876 - accuracy: 0.4901 - val_loss: 1.0733 - val_accuracy: 0.4076\n",
            "Epoch 16/100\n",
            "2035/2038 [============================>.] - ETA: 0s - loss: 0.9842 - accuracy: 0.4903\n",
            "Epoch 16: val_accuracy did not improve from 0.44523\n",
            "2038/2038 [==============================] - 13s 7ms/step - loss: 0.9841 - accuracy: 0.4904 - val_loss: 1.0722 - val_accuracy: 0.4071\n",
            "Epoch 17/100\n",
            "2038/2038 [==============================] - ETA: 0s - loss: 0.9816 - accuracy: 0.4910\n",
            "Epoch 17: val_accuracy did not improve from 0.44523\n",
            "2038/2038 [==============================] - 14s 7ms/step - loss: 0.9816 - accuracy: 0.4910 - val_loss: 1.0731 - val_accuracy: 0.4136\n",
            "Epoch 18/100\n",
            "2034/2038 [============================>.] - ETA: 0s - loss: 0.9815 - accuracy: 0.4906\n",
            "Epoch 18: val_accuracy did not improve from 0.44523\n",
            "2038/2038 [==============================] - 14s 7ms/step - loss: 0.9815 - accuracy: 0.4906 - val_loss: 1.0743 - val_accuracy: 0.4062\n",
            "Epoch 19/100\n",
            "2036/2038 [============================>.] - ETA: 0s - loss: 0.9798 - accuracy: 0.4955\n",
            "Epoch 19: val_accuracy did not improve from 0.44523\n",
            "2038/2038 [==============================] - 13s 6ms/step - loss: 0.9796 - accuracy: 0.4956 - val_loss: 1.0922 - val_accuracy: 0.3971\n",
            "Epoch 20/100\n",
            "2037/2038 [============================>.] - ETA: 0s - loss: 0.9783 - accuracy: 0.4931\n",
            "Epoch 20: val_accuracy did not improve from 0.44523\n",
            "2038/2038 [==============================] - 13s 7ms/step - loss: 0.9783 - accuracy: 0.4931 - val_loss: 1.0801 - val_accuracy: 0.4090\n",
            "Epoch 21/100\n",
            "2032/2038 [============================>.] - ETA: 0s - loss: 0.9769 - accuracy: 0.4958\n",
            "Epoch 21: val_accuracy did not improve from 0.44523\n",
            "2038/2038 [==============================] - 13s 6ms/step - loss: 0.9769 - accuracy: 0.4958 - val_loss: 1.0868 - val_accuracy: 0.3995\n",
            "Epoch 22/100\n",
            "2038/2038 [==============================] - ETA: 0s - loss: 0.9762 - accuracy: 0.4956\n",
            "Epoch 22: val_accuracy did not improve from 0.44523\n",
            "2038/2038 [==============================] - 14s 7ms/step - loss: 0.9762 - accuracy: 0.4956 - val_loss: 1.0628 - val_accuracy: 0.4117\n",
            "Epoch 23/100\n",
            "2038/2038 [==============================] - ETA: 0s - loss: 0.9752 - accuracy: 0.4967\n",
            "Epoch 23: val_accuracy did not improve from 0.44523\n",
            "2038/2038 [==============================] - 14s 7ms/step - loss: 0.9752 - accuracy: 0.4967 - val_loss: 1.0563 - val_accuracy: 0.4122\n",
            "Epoch 24/100\n",
            "2030/2038 [============================>.] - ETA: 0s - loss: 0.9736 - accuracy: 0.5010\n",
            "Epoch 24: val_accuracy did not improve from 0.44523\n",
            "2038/2038 [==============================] - 13s 7ms/step - loss: 0.9733 - accuracy: 0.5011 - val_loss: 1.0498 - val_accuracy: 0.4139\n",
            "Epoch 25/100\n",
            "2038/2038 [==============================] - ETA: 0s - loss: 0.9721 - accuracy: 0.4990\n",
            "Epoch 25: val_accuracy did not improve from 0.44523\n",
            "2038/2038 [==============================] - 13s 6ms/step - loss: 0.9721 - accuracy: 0.4990 - val_loss: 1.0570 - val_accuracy: 0.4132\n",
            "Epoch 26/100\n",
            "2034/2038 [============================>.] - ETA: 0s - loss: 0.9725 - accuracy: 0.4992\n",
            "Epoch 26: val_accuracy did not improve from 0.44523\n",
            "2038/2038 [==============================] - 14s 7ms/step - loss: 0.9725 - accuracy: 0.4992 - val_loss: 1.0606 - val_accuracy: 0.4108\n",
            "Epoch 27/100\n",
            "2038/2038 [==============================] - ETA: 0s - loss: 0.9705 - accuracy: 0.4993\n",
            "Epoch 27: val_accuracy did not improve from 0.44523\n",
            "2038/2038 [==============================] - 13s 7ms/step - loss: 0.9705 - accuracy: 0.4993 - val_loss: 1.0795 - val_accuracy: 0.4079\n",
            "Epoch 28/100\n",
            "2031/2038 [============================>.] - ETA: 0s - loss: 0.9704 - accuracy: 0.4999\n",
            "Epoch 28: val_accuracy did not improve from 0.44523\n",
            "2038/2038 [==============================] - 13s 6ms/step - loss: 0.9704 - accuracy: 0.4999 - val_loss: 1.0621 - val_accuracy: 0.4137\n",
            "Epoch 29/100\n",
            "2035/2038 [============================>.] - ETA: 0s - loss: 0.9690 - accuracy: 0.5023\n",
            "Epoch 29: val_accuracy did not improve from 0.44523\n",
            "2038/2038 [==============================] - 13s 7ms/step - loss: 0.9689 - accuracy: 0.5023 - val_loss: 1.0682 - val_accuracy: 0.4091\n",
            "Epoch 30/100\n",
            "2035/2038 [============================>.] - ETA: 0s - loss: 0.9689 - accuracy: 0.5010\n",
            "Epoch 30: val_accuracy did not improve from 0.44523\n",
            "2038/2038 [==============================] - 13s 6ms/step - loss: 0.9687 - accuracy: 0.5011 - val_loss: 1.0784 - val_accuracy: 0.3941\n",
            "Epoch 31/100\n",
            "2032/2038 [============================>.] - ETA: 0s - loss: 0.9684 - accuracy: 0.5009\n",
            "Epoch 31: val_accuracy did not improve from 0.44523\n",
            "2038/2038 [==============================] - 14s 7ms/step - loss: 0.9684 - accuracy: 0.5009 - val_loss: 1.0668 - val_accuracy: 0.4074\n",
            "Epoch 32/100\n",
            "2037/2038 [============================>.] - ETA: 0s - loss: 0.9662 - accuracy: 0.5022\n",
            "Epoch 32: val_accuracy did not improve from 0.44523\n",
            "2038/2038 [==============================] - 13s 6ms/step - loss: 0.9662 - accuracy: 0.5021 - val_loss: 1.0769 - val_accuracy: 0.4041\n",
            "Epoch 33/100\n",
            "2033/2038 [============================>.] - ETA: 0s - loss: 0.9666 - accuracy: 0.5037\n",
            "Epoch 33: val_accuracy did not improve from 0.44523\n",
            "2038/2038 [==============================] - 13s 6ms/step - loss: 0.9666 - accuracy: 0.5037 - val_loss: 1.0771 - val_accuracy: 0.4049\n",
            "Epoch 34/100\n",
            "2034/2038 [============================>.] - ETA: 0s - loss: 0.9649 - accuracy: 0.5041\n",
            "Epoch 34: val_accuracy did not improve from 0.44523\n",
            "2038/2038 [==============================] - 13s 6ms/step - loss: 0.9649 - accuracy: 0.5042 - val_loss: 1.0706 - val_accuracy: 0.4077\n",
            "Epoch 35/100\n",
            "2038/2038 [==============================] - ETA: 0s - loss: 0.9643 - accuracy: 0.5055\n",
            "Epoch 35: val_accuracy did not improve from 0.44523\n",
            "2038/2038 [==============================] - 14s 7ms/step - loss: 0.9643 - accuracy: 0.5055 - val_loss: 1.0688 - val_accuracy: 0.4076\n",
            "Epoch 36/100\n",
            "2034/2038 [============================>.] - ETA: 0s - loss: 0.9632 - accuracy: 0.5067\n",
            "Epoch 36: val_accuracy did not improve from 0.44523\n",
            "2038/2038 [==============================] - 13s 6ms/step - loss: 0.9632 - accuracy: 0.5069 - val_loss: 1.0879 - val_accuracy: 0.4054\n",
            "Epoch 37/100\n",
            "2037/2038 [============================>.] - ETA: 0s - loss: 0.9637 - accuracy: 0.5070\n",
            "Epoch 37: val_accuracy did not improve from 0.44523\n",
            "2038/2038 [==============================] - 14s 7ms/step - loss: 0.9638 - accuracy: 0.5070 - val_loss: 1.0697 - val_accuracy: 0.3984\n",
            "Epoch 38/100\n",
            "2030/2038 [============================>.] - ETA: 0s - loss: 0.9628 - accuracy: 0.5058\n",
            "Epoch 38: val_accuracy did not improve from 0.44523\n",
            "2038/2038 [==============================] - 13s 6ms/step - loss: 0.9630 - accuracy: 0.5056 - val_loss: 1.0694 - val_accuracy: 0.4105\n",
            "Epoch 39/100\n",
            "2036/2038 [============================>.] - ETA: 0s - loss: 0.9614 - accuracy: 0.5072\n",
            "Epoch 39: val_accuracy did not improve from 0.44523\n",
            "2038/2038 [==============================] - 13s 6ms/step - loss: 0.9613 - accuracy: 0.5072 - val_loss: 1.0690 - val_accuracy: 0.4095\n",
            "Epoch 40/100\n",
            "2036/2038 [============================>.] - ETA: 0s - loss: 0.9605 - accuracy: 0.5093\n",
            "Epoch 40: val_accuracy did not improve from 0.44523\n",
            "2038/2038 [==============================] - 13s 7ms/step - loss: 0.9605 - accuracy: 0.5094 - val_loss: 1.0676 - val_accuracy: 0.4125\n",
            "Epoch 41/100\n",
            "2035/2038 [============================>.] - ETA: 0s - loss: 0.9610 - accuracy: 0.5094\n",
            "Epoch 41: val_accuracy did not improve from 0.44523\n",
            "2038/2038 [==============================] - 14s 7ms/step - loss: 0.9610 - accuracy: 0.5094 - val_loss: 1.0554 - val_accuracy: 0.4059\n",
            "Epoch 42/100\n",
            "2033/2038 [============================>.] - ETA: 0s - loss: 0.9620 - accuracy: 0.5073\n",
            "Epoch 42: val_accuracy did not improve from 0.44523\n",
            "2038/2038 [==============================] - 13s 6ms/step - loss: 0.9620 - accuracy: 0.5073 - val_loss: 1.0665 - val_accuracy: 0.4103\n",
            "Epoch 43/100\n",
            "2037/2038 [============================>.] - ETA: 0s - loss: 0.9616 - accuracy: 0.5100\n",
            "Epoch 43: val_accuracy did not improve from 0.44523\n",
            "2038/2038 [==============================] - 13s 6ms/step - loss: 0.9616 - accuracy: 0.5100 - val_loss: 1.0688 - val_accuracy: 0.4113\n",
            "Epoch 44/100\n",
            "2032/2038 [============================>.] - ETA: 0s - loss: 0.9596 - accuracy: 0.5086Restoring model weights from the end of the best epoch: 24.\n",
            "\n",
            "Epoch 44: val_accuracy did not improve from 0.44523\n",
            "2038/2038 [==============================] - 14s 7ms/step - loss: 0.9595 - accuracy: 0.5086 - val_loss: 1.0591 - val_accuracy: 0.4035\n",
            "Epoch 44: early stopping\n"
          ]
        }
      ]
    },
    {
      "cell_type": "code",
      "source": [
        "# Visualizing Training and Validation accuracy / loss\n",
        "acc = history.history['accuracy']\n",
        "val_acc = history.history['val_accuracy']\n",
        "loss = history.history['loss']\n",
        "val_loss = history.history['val_loss']\n",
        "\n",
        "epochs = range(len(acc))\n",
        "\n",
        "plt.plot(epochs,acc,'bo',label = 'Training acc')\n",
        "plt.plot(epochs,val_acc,'b',label = 'Validation acc')\n",
        "plt.title('Traing and Validation accuracy')\n",
        "plt.legend()\n",
        "\n",
        "plt.figure()\n",
        "\n",
        "plt.plot(epochs,loss,'bo',label='Training loss')\n",
        "plt.plot(epochs,val_loss,'b',label='Validation loss')\n",
        "plt.title('Training and validaiton loss')\n",
        "plt.legend()\n",
        "\n",
        "plt.show()"
      ],
      "metadata": {
        "id": "5cGJ-uD5BPzI",
        "colab": {
          "base_uri": "https://localhost:8080/",
          "height": 887
        },
        "outputId": "2c5bffc6-4368-4ed0-ccd7-e1eb54129e24"
      },
      "execution_count": null,
      "outputs": [
        {
          "output_type": "display_data",
          "data": {
            "text/plain": [
              "<Figure size 640x480 with 1 Axes>"
            ],
            "image/png": "[encoded data removed]"
          },
          "metadata": {}
        },
        {
          "output_type": "display_data",
          "data": {
            "text/plain": [
              "<Figure size 640x480 with 1 Axes>"
            ],
            "image/png": "[encoded data removed]"
          },
          "metadata": {}
        }
      ]
    }
  ]
}