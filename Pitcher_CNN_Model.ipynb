{
  "nbformat": 4,
  "nbformat_minor": 0,
  "metadata": {
    "colab": {
      "provenance": [],
      "gpuType": "T4",
      "include_colab_link": true
    },
    "kernelspec": {
      "name": "python3",
      "display_name": "Python 3"
    },
    "language_info": {
      "name": "python"
    },
    "accelerator": "GPU"
  },
  "cells": [
    {
      "cell_type": "markdown",
      "metadata": {
        "id": "view-in-github",
        "colab_type": "text"
      },
      "source": [

      ]
    },
    {
      "cell_type": "code",

      "metadata": {
        "id": "jGTsZG9IIVIc",
        "colab": {
          "base_uri": "https://localhost:8080/"
        },

      },
      "outputs": [
        {
          "output_type": "stream",
          "name": "stdout",
          "text": [
            "NumPy Version :1.22.4\n",
            "TensorFlow Version :2.12.0\n",
            "Matplotlib Version :3.7.1\n"
          ]
        }
      ],
      "source": [
        "import numpy as np\n",
        "import pandas as pd\n",
        "import tensorflow as tf\n",
        "import matplotlib.pyplot as plt\n",
        "import matplotlib.image as mpimg\n",
        "import matplotlib.patches as patches\n",
        "import glob\n",
        "import cv2\n",
        "import re\n",
        "import random\n",
        "import json\n",
        "import os\n",
        "from google.colab.patches import cv2_imshow\n",
        "\n",
        "\n",
        "print(\"NumPy Version :{}\".format(np.__version__))\n",
        "print(\"TensorFlow Version :{}\".format(tf.__version__))\n",
        "print(\"Matplotlib Version :{}\".format(plt.matplotlib.__version__))"
      ]
    },
    {
      "cell_type": "markdown",
      "source": [
        "Reading Data (Pickle Data)"
      ],
      "metadata": {
        "id": "YVswXe0TIo9j"
      }
    },
    {
      "cell_type": "code",
      "source": [
        "from google.colab import drive\n",
        "drive.mount('/content/drive')"
      ],
      "metadata": {
        "colab": {
          "base_uri": "https://localhost:8080/"
        },
        "id": "KKRX0mGO-heM",

      "outputs": [
        {
          "output_type": "stream",
          "name": "stdout",
          "text": [

          ]
        }
      ]
    },
    {
      "cell_type": "code",
      "source": [
        "x_Data = []\n",
        "y_Data = []\n",

        "  if i not in [96, 136, 146, 197, 220, 223]:\n",
        "    f_path = '/content/drive/MyDrive/PKL_PITCHER/img_merged_{num}.pkl'.format(num = i)\n",
        "    df = pd.read_pickle(f_path)\n",
        "    for j in range(len(df)):\n",
        "      x_Data.append(df['wrist'][j])\n",
        "      y_Data.append(0.0)\n",
        "      x_Data.append(df['elbow'][j])\n",
        "      y_Data.append(1.0)\n",
        "      x_Data.append(df['shoulder'][j])\n",
        "      y_Data.append(2.0)\n",
        "\n",
        "x_Data = np.array(x_Data)\n",
        "y_Data = np.array(y_Data)"
      ],
      "metadata": {

    },
    {
      "cell_type": "markdown",
      "source": [
        "Train/Test split"
      ],
      "metadata": {
        "id": "oobRCSAjIiWI"
      }
    },
    {
      "cell_type": "code",
      "source": [
        "from sklearn.model_selection import train_test_split\n",
        "\n",
        "x_train, x_test, y_train, y_test = train_test_split(x_Data, y_Data, test_size=0.2, random_state=42)"
      ],
      "metadata": {
        "id": "lP0-RSQDIjAQ"
      },

      "outputs": []
    },
    {
      "cell_type": "code",
      "source": [
        "# x_train = np.array(x_train)\n",
        "# x_test = np.array(x_test)\n",
        "# y_train = np.array(y_train)\n",
        "# y_test = np.array(y_test)"
      ],
      "metadata": {
        "id": "mPCjgH-9Ij_M"
      },

      "outputs": []
    },
    {
      "cell_type": "markdown",
      "source": [
        "Model"
      ],
      "metadata": {
        "id": "lGiBD3rfJeeD"
      }
    },
    {
      "cell_type": "code",
      "source": [
        "IMG_SIZE = 32\n",
        "n_class = 3\n",
        "model = tf.keras.models.Sequential()\n",
        "# conv 1\n",
        "model.add(tf.keras.layers.Conv2D(64,3,padding='same',activation='relu',input_shape=(IMG_SIZE,IMG_SIZE,3)))\n",
        "model.add(tf.keras.layers.Dropout(rate=0.5))                          #  DO1\n",
        "model.add(tf.keras.layers.MaxPool2D(pool_size=2, strides=2))\n",
        "# conv 2\n",
        "model.add(tf.keras.layers.Conv2D(64, 3, padding='same', activation='relu'))\n",
        "model.add(tf.keras.layers.Dropout(rate=0.5))                          # DO2\n",
        "model.add(tf.keras.layers.MaxPool2D(pool_size=2, strides=2))\n",
        "# conv 3\n",
        "model.add(tf.keras.layers.Conv2D(64, 3, padding='same', activation='relu'))\n",
        "model.add(tf.keras.layers.Dropout(rate=0.5))                           # DO3\n",
        "model.add(tf.keras.layers.MaxPool2D(pool_size=2, strides=2))\n",
        "\n",
        "# dense layers\n",
        "model.add(tf.keras.layers.Flatten())\n",
        "model.add(tf.keras.layers.Dense(n_class, activation='softmax')) \n",
        "\n",
        "model.summary()"
      ],
      "metadata": {
        "id": "nsHrPcTeJe3p",
        "colab": {
          "base_uri": "https://localhost:8080/"
        },

      "outputs": [
        {
          "output_type": "stream",
          "name": "stdout",
          "text": [

            "                                                                 \n",
            "=================================================================\n",
            "Total params: 78,723\n",
            "Trainable params: 78,723\n",
            "Non-trainable params: 0\n",
            "_________________________________________________________________\n"
          ]
        }
      ]
    },
    {
      "cell_type": "code",
      "source": [
        "model.compile(optimizer='SGD',\n",
        "              loss='sparse_categorical_crossentropy',\n",
        "              metrics=['accuracy'])"
      ],
      "metadata": {
        "id": "MwJSh2aoJggx"
      },

      "outputs": []
    },
    {
      "cell_type": "code",
      "source": [

        "saved_model = '../files/pitcher_cnn3_model.h5'\n",
        "es = tf.keras.callbacks.EarlyStopping(monitor='val_loss', mode='min', verbose=1, patience=20,restore_best_weights=True)\n",
        "mc = tf.keras.callbacks.ModelCheckpoint(saved_model, monitor='val_accuracy', mode='max', verbose=1, save_best_only=True)"
      ],
      "metadata": {
        "id": "mkAN9ufTJhyi"
      },

      "outputs": []
    },
    {
      "cell_type": "code",
      "source": [
        "history = model.fit(x_train, y_train, epochs=100,\n",
        "                      callbacks=[es,mc],\n",
        "                      validation_data=(x_test, y_test)\n",
        "                 )"
      ],
      "metadata": {
        "id": "qrPf4ZI1Ji1N",
        "colab": {
          "base_uri": "https://localhost:8080/"
        },

      "outputs": [
        {
          "output_type": "stream",
          "name": "stdout",
          "text": [
            "Epoch 1/100\n",

          ]
        }
      ]
    },
    {
      "cell_type": "code",
      "source": [],
      "metadata": {
        "id": "5cGJ-uD5BPzI"
      },
      "outputs": []
    }
  ]
}