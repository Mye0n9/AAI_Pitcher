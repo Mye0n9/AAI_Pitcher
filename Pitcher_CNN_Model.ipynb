{
  "nbformat": 4,
  "nbformat_minor": 0,
  "metadata": {
    "colab": {
      "provenance": [],
      "mount_file_id": "1m5Qg2Tj2bSrBXGqUm6QtJ2NZ5oHvlEBx",
      "authorship_tag": "ABX9TyPVjfxMFBVRIFv7HbzxLnXr",
      "include_colab_link": true
    },
    "kernelspec": {
      "name": "python3",
      "display_name": "Python 3"
    },
    "language_info": {
      "name": "python"
    }
  },
  "cells": [
    {
      "cell_type": "markdown",
      "metadata": {
        "id": "view-in-github",
        "colab_type": "text"
      },
      "source": [
        "<a href=\"https://colab.research.google.com/github/Mye0n9/AAI_Pitcher/blob/CNN_Testing/Pitcher_CNN_Model.ipynb\" target=\"_parent\"><img src=\"https://colab.research.google.com/assets/colab-badge.svg\" alt=\"Open In Colab\"/></a>"
      ]
    },
    {
      "cell_type": "code",
      "execution_count": null,
      "metadata": {
        "id": "jGTsZG9IIVIc"
      },
      "outputs": [],
      "source": [
        "import numpy as np\n",
        "import pandas as pd\n",
        "import tensorflow as tf\n",
        "import matplotlib.pyplot as plt\n",
        "import matplotlib.image as mpimg\n",
        "import matplotlib.patches as patches\n",
        "import glob\n",
        "import cv2\n",
        "import re\n",
        "import random\n",
        "import json\n",
        "import os\n",
        "from google.colab.patches import cv2_imshow\n",
        "\n",
        "\n",
        "print(\"NumPy Version :{}\".format(np.__version__))\n",
        "print(\"TensorFlow Version :{}\".format(tf.__version__))\n",
        "print(\"Matplotlib Version :{}\".format(plt.matplotlib.__version__))"
      ]
    },
    {
      "cell_type": "markdown",
      "source": [
        "Reading Data (Pickle Data)"
      ],
      "metadata": {
        "id": "YVswXe0TIo9j"
      }
    },
    {
      "cell_type": "code",
      "source": [
        "f_path = 'drive/MyDrive/img_merged.pkl'\n",
        "df = pd.read_pickle(f_path)"
      ],
      "metadata": {
        "id": "H0Eu4GsoIoxz"
      },
      "execution_count": null,
      "outputs": []
    },
    {
      "cell_type": "markdown",
      "source": [
        "Train/Test split"
      ],
      "metadata": {
        "id": "oobRCSAjIiWI"
      }
    },
    {
      "cell_type": "code",
      "source": [
        "from sklearn.model_selection import train_test_split\n",
        "\n",
        "x_Data = df.iloc[:,0] + df.iloc[:,1]+df.iloc[:,2]\n",
        "\n",
        "y_Data = [0 for _ in range(len(df.iloc[:,0]))]+ [1 for _ in range(len(df.iloc[:,1]))] + [2 for _ in range(len(df.iloc[:,2]))]\n",
        "\n",
        "x_train, x_test, y_train, y_test = train_test_split(x_Data, y_Data, test_size=0.2, random_state=42)"
      ],
      "metadata": {
        "id": "lP0-RSQDIjAQ"
      },
      "execution_count": null,
      "outputs": []
    },
    {
      "cell_type": "code",
      "source": [
        "x_train = np.array(x_train)\n",
        "x_test = np.array(x_test)\n",
        "y_train = np.array(y_train)\n",
        "y_test = np.array(y_test)"
      ],
      "metadata": {
        "id": "mPCjgH-9Ij_M"
      },
      "execution_count": null,
      "outputs": []
    },
    {
      "cell_type": "markdown",
      "source": [
        "Model"
      ],
      "metadata": {
        "id": "lGiBD3rfJeeD"
      }
    },
    {
      "cell_type": "code",
      "source": [
        "n_class = 3\n",
        "model = tf.keras.models.Sequential()\n",
        "# conv 1\n",
        "model.add(tf.keras.layers.Conv2D(64,3,padding='same',activation='relu',input_shape=(IMG_SIZE,IMG_SIZE,3)))\n",
        "model.add(tf.keras.layers.Dropout(rate=0.5))                          #  DO1\n",
        "model.add(tf.keras.layers.MaxPool2D(pool_size=2, strides=2))\n",
        "# conv 2\n",
        "model.add(tf.keras.layers.Conv2D(64, 3, padding='same', activation='relu'))\n",
        "model.add(tf.keras.layers.Dropout(rate=0.5))                          # DO2\n",
        "model.add(tf.keras.layers.MaxPool2D(pool_size=2, strides=2))\n",
        "# conv 3\n",
        "model.add(tf.keras.layers.Conv2D(64, 3, padding='same', activation='relu'))\n",
        "model.add(tf.keras.layers.Dropout(rate=0.5))                           # DO3\n",
        "model.add(tf.keras.layers.MaxPool2D(pool_size=2, strides=2))\n",
        "\n",
        "# dense layers\n",
        "model.add(tf.keras.layers.Flatten())\n",
        "model.add(tf.keras.layers.Dense(n_class, activation='softmax')) \n",
        "\n",
        "model.summary()"
      ],
      "metadata": {
        "id": "nsHrPcTeJe3p"
      },
      "execution_count": null,
      "outputs": []
    },
    {
      "cell_type": "code",
      "source": [
        "model.compile(optimizer='SGD',\n",
        "              loss='sparse_categorical_crossentropy',\n",
        "              metrics=['accuracy'])"
      ],
      "metadata": {
        "id": "MwJSh2aoJggx"
      },
      "execution_count": null,
      "outputs": []
    },
    {
      "cell_type": "code",
      "source": [
        "saved_model = '../files/pitcher_cnn3_model.h5'\n",
        "es = tf.keras.callbacks.EarlyStopping(monitor='val_loss', mode='min', verbose=1, patience=5,restore_best_weights=True)\n",
        "mc = tf.keras.callbacks.ModelCheckpoint(saved_model, monitor='val_accuracy', mode='max', verbose=1, save_best_only=True)"
      ],
      "metadata": {
        "id": "mkAN9ufTJhyi"
      },
      "execution_count": null,
      "outputs": []
    },
    {
      "cell_type": "code",
      "source": [
        "history = model.fit(x_train, y_train, epochs=100,\n",
        "                      callbacks=[es,mc],\n",
        "                      validation_data=(x_test, y_test)\n",
        "                 )"
      ],
      "metadata": {
        "id": "qrPf4ZI1Ji1N"
      },
      "execution_count": null,
      "outputs": []
    }
  ]
}