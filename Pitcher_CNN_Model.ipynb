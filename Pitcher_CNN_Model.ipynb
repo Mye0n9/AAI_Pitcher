{
  "nbformat": 4,
  "nbformat_minor": 0,
  "metadata": {
    "colab": {
      "provenance": [],
      "gpuType": "T4",
      "include_colab_link": true
    },
    "kernelspec": {
      "name": "python3",
      "display_name": "Python 3"
    },
    "language_info": {
      "name": "python"
    },
    "accelerator": "GPU"
  },
  "cells": [
    {
      "cell_type": "markdown",
      "metadata": {
        "id": "view-in-github",
        "colab_type": "text"
      },
      "source": [
        "<a href=\"https://colab.research.google.com/github/Mye0n9/AAI_Pitcher/blob/main/Pitcher_CNN_Model.ipynb\" target=\"_parent\"><img src=\"https://colab.research.google.com/assets/colab-badge.svg\" alt=\"Open In Colab\"/></a>"
      ]
    },
    {
      "cell_type": "code",
      "execution_count": 13,
      "metadata": {
        "id": "jGTsZG9IIVIc",
        "colab": {
          "base_uri": "https://localhost:8080/"
        },
        "outputId": "c7c06567-c18f-411f-e1dc-addb7046b42a"
      },
      "outputs": [
        {
          "output_type": "stream",
          "name": "stdout",
          "text": [
            "NumPy Version :1.22.4\n",
            "TensorFlow Version :2.12.0\n",
            "Matplotlib Version :3.7.1\n"
          ]
        }
      ],
      "source": [
        "import numpy as np\n",
        "import pandas as pd\n",
        "import tensorflow as tf\n",
        "import matplotlib.pyplot as plt\n",
        "import matplotlib.image as mpimg\n",
        "import matplotlib.patches as patches\n",
        "import glob\n",
        "import cv2\n",
        "import re\n",
        "import random\n",
        "import json\n",
        "import os\n",
        "from google.colab.patches import cv2_imshow\n",
        "\n",
        "\n",
        "print(\"NumPy Version :{}\".format(np.__version__))\n",
        "print(\"TensorFlow Version :{}\".format(tf.__version__))\n",
        "print(\"Matplotlib Version :{}\".format(plt.matplotlib.__version__))"
      ]
    },
    {
      "cell_type": "markdown",
      "source": [
        "Reading Data (Pickle Data)"
      ],
      "metadata": {
        "id": "YVswXe0TIo9j"
      }
    },
    {
      "cell_type": "code",
      "source": [
        "from google.colab import drive\n",
        "drive.mount('/content/drive')"
      ],
      "metadata": {
        "colab": {
          "base_uri": "https://localhost:8080/"
        },
        "id": "KKRX0mGO-heM",
        "outputId": "cbef10a7-f8e4-4393-dd48-b91c4e6cf614"
      },
      "execution_count": 14,
      "outputs": [
        {
          "output_type": "stream",
          "name": "stdout",
          "text": [
            "Drive already mounted at /content/drive; to attempt to forcibly remount, call drive.mount(\"/content/drive\", force_remount=True).\n"
          ]
        }
      ]
    },
    {
      "cell_type": "code",
      "source": [
        "x_Data = []\n",
        "y_Data = []\n",
        "for i in range(256):\n",
        "  if i not in [96, 136, 146, 197, 220, 223]:\n",
        "    f_path = '/content/drive/MyDrive/PKL_PITCHER/img_merged_{num}.pkl'.format(num = i)\n",
        "    df = pd.read_pickle(f_path)\n",
        "    for j in range(len(df)):\n",
        "      x_Data.append(df['wrist'][j])\n",
        "      y_Data.append(0.0)\n",
        "      x_Data.append(df['elbow'][j])\n",
        "      y_Data.append(1.0)\n",
        "      x_Data.append(df['shoulder'][j])\n",
        "      y_Data.append(2.0)\n",
        "\n",
        "x_Data = np.array(x_Data)\n",
        "y_Data = np.array(y_Data)"
      ],
      "metadata": {
        "id": "H0Eu4GsoIoxz"
      },
      "execution_count": 15,
      "outputs": []
    },
    {
      "cell_type": "markdown",
      "source": [
        "Train/Test split"
      ],
      "metadata": {
        "id": "oobRCSAjIiWI"
      }
    },
    {
      "cell_type": "code",
      "source": [
        "from sklearn.model_selection import train_test_split\n",
        "\n",
        "x_train, x_test, y_train, y_test = train_test_split(x_Data, y_Data, test_size=0.2, random_state=42)"
      ],
      "metadata": {
        "id": "lP0-RSQDIjAQ"
      },
      "execution_count": 16,
      "outputs": []
    },
    {
      "cell_type": "code",
      "source": [
        "# x_train = np.array(x_train)\n",
        "# x_test = np.array(x_test)\n",
        "# y_train = np.array(y_train)\n",
        "# y_test = np.array(y_test)"
      ],
      "metadata": {
        "id": "mPCjgH-9Ij_M"
      },
      "execution_count": 17,
      "outputs": []
    },
    {
      "cell_type": "markdown",
      "source": [
        "Model"
      ],
      "metadata": {
        "id": "lGiBD3rfJeeD"
      }
    },
    {
      "cell_type": "code",
      "source": [
        "IMG_SIZE = 32\n",
        "n_class = 3\n",
        "model = tf.keras.models.Sequential()\n",
        "# conv 1\n",
        "model.add(tf.keras.layers.Conv2D(64,3,padding='same',activation='relu',input_shape=(IMG_SIZE,IMG_SIZE,3)))\n",
        "model.add(tf.keras.layers.Dropout(rate=0.5))                          #  DO1\n",
        "model.add(tf.keras.layers.MaxPool2D(pool_size=2, strides=2))\n",
        "# conv 2\n",
        "model.add(tf.keras.layers.Conv2D(64, 3, padding='same', activation='relu'))\n",
        "model.add(tf.keras.layers.Dropout(rate=0.5))                          # DO2\n",
        "model.add(tf.keras.layers.MaxPool2D(pool_size=2, strides=2))\n",
        "# conv 3\n",
        "model.add(tf.keras.layers.Conv2D(64, 3, padding='same', activation='relu'))\n",
        "model.add(tf.keras.layers.Dropout(rate=0.5))                           # DO3\n",
        "model.add(tf.keras.layers.MaxPool2D(pool_size=2, strides=2))\n",
        "\n",
        "# dense layers\n",
        "model.add(tf.keras.layers.Flatten())\n",
        "model.add(tf.keras.layers.Dense(n_class, activation='softmax')) \n",
        "\n",
        "model.summary()"
      ],
      "metadata": {
        "id": "nsHrPcTeJe3p",
        "colab": {
          "base_uri": "https://localhost:8080/"
        },
        "outputId": "dbf4731a-6b84-4022-fea5-4bf293b73f65"
      },
      "execution_count": 18,
      "outputs": [
        {
          "output_type": "stream",
          "name": "stdout",
          "text": [
            "Model: \"sequential_2\"\n",
            "_________________________________________________________________\n",
            " Layer (type)                Output Shape              Param #   \n",
            "=================================================================\n",
            " conv2d_6 (Conv2D)           (None, 32, 32, 64)        1792      \n",
            "                                                                 \n",
            " dropout_6 (Dropout)         (None, 32, 32, 64)        0         \n",
            "                                                                 \n",
            " max_pooling2d_6 (MaxPooling  (None, 16, 16, 64)       0         \n",
            " 2D)                                                             \n",
            "                                                                 \n",
            " conv2d_7 (Conv2D)           (None, 16, 16, 64)        36928     \n",
            "                                                                 \n",
            " dropout_7 (Dropout)         (None, 16, 16, 64)        0         \n",
            "                                                                 \n",
            " max_pooling2d_7 (MaxPooling  (None, 8, 8, 64)         0         \n",
            " 2D)                                                             \n",
            "                                                                 \n",
            " conv2d_8 (Conv2D)           (None, 8, 8, 64)          36928     \n",
            "                                                                 \n",
            " dropout_8 (Dropout)         (None, 8, 8, 64)          0         \n",
            "                                                                 \n",
            " max_pooling2d_8 (MaxPooling  (None, 4, 4, 64)         0         \n",
            " 2D)                                                             \n",
            "                                                                 \n",
            " flatten_2 (Flatten)         (None, 1024)              0         \n",
            "                                                                 \n",
            " dense_2 (Dense)             (None, 3)                 3075      \n",
            "                                                                 \n",
            "=================================================================\n",
            "Total params: 78,723\n",
            "Trainable params: 78,723\n",
            "Non-trainable params: 0\n",
            "_________________________________________________________________\n"
          ]
        }
      ]
    },
    {
      "cell_type": "code",
      "source": [
        "model.compile(optimizer='SGD',\n",
        "              loss='sparse_categorical_crossentropy',\n",
        "              metrics=['accuracy'])"
      ],
      "metadata": {
        "id": "MwJSh2aoJggx"
      },
      "execution_count": 19,
      "outputs": []
    },
    {
      "cell_type": "code",
      "source": [
        "from tensorflow.keras.utils import plot_model\n",
        "plot_model(model, to_file='model.png')"
      ],
      "metadata": {
        "colab": {
          "base_uri": "https://localhost:8080/",
          "height": 1000
        },
        "id": "QvFF9tdVQ9sF",
        "outputId": "f0336078-0030-4e12-e179-4c7eb51f6ae6"
      },
      "execution_count": 20,
      "outputs": [
        {
          "output_type": "execute_result",
          "data": {
            "image/png": "[encoded data removed]",
            "text/plain": [
              "<IPython.core.display.Image object>"
            ]
          },
          "metadata": {},
          "execution_count": 20
        }
      ]
    },
    {
      "cell_type": "code",
      "source": [
        "saved_model = '../files/pitcher_cnn3_model.h5'\n",
        "es = tf.keras.callbacks.EarlyStopping(monitor='val_loss', mode='min', verbose=1, patience=20,restore_best_weights=True)\n",
        "mc = tf.keras.callbacks.ModelCheckpoint(saved_model, monitor='val_accuracy', mode='max', verbose=1, save_best_only=True)"
      ],
      "metadata": {
        "id": "mkAN9ufTJhyi"
      },
      "execution_count": 21,
      "outputs": []
    },
    {
      "cell_type": "code",
      "source": [
        "history = model.fit(x_train, y_train, epochs=100,\n",
        "                      callbacks=[es,mc],\n",
        "                      validation_data=(x_test, y_test)\n",
        "                 )"
      ],
      "metadata": {
        "id": "qrPf4ZI1Ji1N",
        "colab": {
          "base_uri": "https://localhost:8080/"
        },
        "outputId": "a234b324-02a3-42b6-9282-071339e949ca"
      },
      "execution_count": 22,
      "outputs": [
        {
          "output_type": "stream",
          "name": "stdout",
          "text": [
            "Epoch 1/100\n",
            "2038/2038 [==============================] - ETA: 0s - loss: 1.0988 - accuracy: 0.3343\n",
            "Epoch 1: val_accuracy improved from -inf to 0.33078, saving model to ../files/pitcher_cnn3_model.h5\n",
            "2038/2038 [==============================] - 13s 6ms/step - loss: 1.0988 - accuracy: 0.3343 - val_loss: 1.0988 - val_accuracy: 0.3308\n",
            "Epoch 2/100\n",
            "2038/2038 [==============================] - ETA: 0s - loss: 1.0987 - accuracy: 0.3352\n",
            "Epoch 2: val_accuracy did not improve from 0.33078\n",
            "2038/2038 [==============================] - 11s 5ms/step - loss: 1.0987 - accuracy: 0.3352 - val_loss: 1.0987 - val_accuracy: 0.3308\n",
            "Epoch 3/100\n",
            "2037/2038 [============================>.] - ETA: 0s - loss: 1.0987 - accuracy: 0.3323\n",
            "Epoch 3: val_accuracy improved from 0.33078 to 0.33795, saving model to ../files/pitcher_cnn3_model.h5\n",
            "2038/2038 [==============================] - 11s 5ms/step - loss: 1.0987 - accuracy: 0.3323 - val_loss: 1.0986 - val_accuracy: 0.3380\n",
            "Epoch 4/100\n",
            "2036/2038 [============================>.] - ETA: 0s - loss: 1.0986 - accuracy: 0.3328\n",
            "Epoch 4: val_accuracy did not improve from 0.33795\n",
            "2038/2038 [==============================] - 11s 5ms/step - loss: 1.0986 - accuracy: 0.3328 - val_loss: 1.0989 - val_accuracy: 0.3308\n",
            "Epoch 5/100\n",
            "2037/2038 [============================>.] - ETA: 0s - loss: 1.0987 - accuracy: 0.3320\n",
            "Epoch 5: val_accuracy did not improve from 0.33795\n",
            "2038/2038 [==============================] - 11s 5ms/step - loss: 1.0987 - accuracy: 0.3320 - val_loss: 1.0986 - val_accuracy: 0.3313\n",
            "Epoch 6/100\n",
            "2029/2038 [============================>.] - ETA: 0s - loss: 1.0987 - accuracy: 0.3311\n",
            "Epoch 6: val_accuracy did not improve from 0.33795\n",
            "2038/2038 [==============================] - 10s 5ms/step - loss: 1.0987 - accuracy: 0.3308 - val_loss: 1.0988 - val_accuracy: 0.3313\n",
            "Epoch 7/100\n",
            "2028/2038 [============================>.] - ETA: 0s - loss: 1.0987 - accuracy: 0.3310\n",
            "Epoch 7: val_accuracy did not improve from 0.33795\n",
            "2038/2038 [==============================] - 11s 6ms/step - loss: 1.0987 - accuracy: 0.3310 - val_loss: 1.0987 - val_accuracy: 0.3313\n",
            "Epoch 8/100\n",
            "2032/2038 [============================>.] - ETA: 0s - loss: 1.0987 - accuracy: 0.3315\n",
            "Epoch 8: val_accuracy did not improve from 0.33795\n",
            "2038/2038 [==============================] - 11s 5ms/step - loss: 1.0987 - accuracy: 0.3315 - val_loss: 1.0987 - val_accuracy: 0.3308\n",
            "Epoch 9/100\n",
            "2036/2038 [============================>.] - ETA: 0s - loss: 1.0987 - accuracy: 0.3321\n",
            "Epoch 9: val_accuracy did not improve from 0.33795\n",
            "2038/2038 [==============================] - 11s 5ms/step - loss: 1.0987 - accuracy: 0.3321 - val_loss: 1.0986 - val_accuracy: 0.3380\n",
            "Epoch 10/100\n",
            "2033/2038 [============================>.] - ETA: 0s - loss: 1.0987 - accuracy: 0.3361\n",
            "Epoch 10: val_accuracy did not improve from 0.33795\n",
            "2038/2038 [==============================] - 12s 6ms/step - loss: 1.0987 - accuracy: 0.3361 - val_loss: 1.0987 - val_accuracy: 0.3313\n",
            "Epoch 11/100\n",
            "2028/2038 [============================>.] - ETA: 0s - loss: 1.0987 - accuracy: 0.3316\n",
            "Epoch 11: val_accuracy did not improve from 0.33795\n",
            "2038/2038 [==============================] - 11s 5ms/step - loss: 1.0987 - accuracy: 0.3317 - val_loss: 1.0988 - val_accuracy: 0.3313\n",
            "Epoch 12/100\n",
            "2029/2038 [============================>.] - ETA: 0s - loss: 1.0987 - accuracy: 0.3319\n",
            "Epoch 12: val_accuracy did not improve from 0.33795\n",
            "2038/2038 [==============================] - 11s 5ms/step - loss: 1.0987 - accuracy: 0.3319 - val_loss: 1.0988 - val_accuracy: 0.3313\n",
            "Epoch 13/100\n",
            "2038/2038 [==============================] - ETA: 0s - loss: 1.0987 - accuracy: 0.3328\n",
            "Epoch 13: val_accuracy did not improve from 0.33795\n",
            "2038/2038 [==============================] - 11s 5ms/step - loss: 1.0987 - accuracy: 0.3328 - val_loss: 1.0988 - val_accuracy: 0.3308\n",
            "Epoch 14/100\n",
            "2035/2038 [============================>.] - ETA: 0s - loss: 1.0987 - accuracy: 0.3315\n",
            "Epoch 14: val_accuracy did not improve from 0.33795\n",
            "2038/2038 [==============================] - 11s 5ms/step - loss: 1.0987 - accuracy: 0.3316 - val_loss: 1.0987 - val_accuracy: 0.3313\n",
            "Epoch 15/100\n",
            "2032/2038 [============================>.] - ETA: 0s - loss: 1.0987 - accuracy: 0.3339\n",
            "Epoch 15: val_accuracy did not improve from 0.33795\n",
            "2038/2038 [==============================] - 12s 6ms/step - loss: 1.0986 - accuracy: 0.3341 - val_loss: 1.0990 - val_accuracy: 0.3308\n",
            "Epoch 16/100\n",
            "2032/2038 [============================>.] - ETA: 0s - loss: 1.0987 - accuracy: 0.3318\n",
            "Epoch 16: val_accuracy did not improve from 0.33795\n",
            "2038/2038 [==============================] - 11s 6ms/step - loss: 1.0987 - accuracy: 0.3319 - val_loss: 1.0987 - val_accuracy: 0.3313\n",
            "Epoch 17/100\n",
            "2036/2038 [============================>.] - ETA: 0s - loss: 1.0986 - accuracy: 0.3342\n",
            "Epoch 17: val_accuracy did not improve from 0.33795\n",
            "2038/2038 [==============================] - 10s 5ms/step - loss: 1.0986 - accuracy: 0.3344 - val_loss: 1.0986 - val_accuracy: 0.3308\n",
            "Epoch 18/100\n",
            "2032/2038 [============================>.] - ETA: 0s - loss: 1.0987 - accuracy: 0.3306\n",
            "Epoch 18: val_accuracy did not improve from 0.33795\n",
            "2038/2038 [==============================] - 11s 5ms/step - loss: 1.0987 - accuracy: 0.3307 - val_loss: 1.0989 - val_accuracy: 0.3308\n",
            "Epoch 19/100\n",
            "2037/2038 [============================>.] - ETA: 0s - loss: 1.0987 - accuracy: 0.3333\n",
            "Epoch 19: val_accuracy did not improve from 0.33795\n",
            "2038/2038 [==============================] - 11s 5ms/step - loss: 1.0987 - accuracy: 0.3333 - val_loss: 1.0986 - val_accuracy: 0.3380\n",
            "Epoch 20/100\n",
            "2037/2038 [============================>.] - ETA: 0s - loss: 1.0987 - accuracy: 0.3325\n",
            "Epoch 20: val_accuracy did not improve from 0.33795\n",
            "2038/2038 [==============================] - 11s 5ms/step - loss: 1.0987 - accuracy: 0.3325 - val_loss: 1.0987 - val_accuracy: 0.3313\n",
            "Epoch 21/100\n",
            "2038/2038 [==============================] - ETA: 0s - loss: 1.0987 - accuracy: 0.3315\n",
            "Epoch 21: val_accuracy did not improve from 0.33795\n",
            "2038/2038 [==============================] - 11s 5ms/step - loss: 1.0987 - accuracy: 0.3315 - val_loss: 1.0989 - val_accuracy: 0.3308\n",
            "Epoch 22/100\n",
            "2036/2038 [============================>.] - ETA: 0s - loss: 1.0987 - accuracy: 0.3348\n",
            "Epoch 22: val_accuracy did not improve from 0.33795\n",
            "2038/2038 [==============================] - 12s 6ms/step - loss: 1.0987 - accuracy: 0.3347 - val_loss: 1.0987 - val_accuracy: 0.3308\n",
            "Epoch 23/100\n",
            "2038/2038 [==============================] - ETA: 0s - loss: 1.0986 - accuracy: 0.3340\n",
            "Epoch 23: val_accuracy did not improve from 0.33795\n",
            "2038/2038 [==============================] - 11s 5ms/step - loss: 1.0986 - accuracy: 0.3340 - val_loss: 1.0989 - val_accuracy: 0.3308\n",
            "Epoch 24/100\n",
            "2037/2038 [============================>.] - ETA: 0s - loss: 1.0987 - accuracy: 0.3285\n",
            "Epoch 24: val_accuracy did not improve from 0.33795\n",
            "2038/2038 [==============================] - 11s 6ms/step - loss: 1.0987 - accuracy: 0.3285 - val_loss: 1.0988 - val_accuracy: 0.3308\n",
            "Epoch 25/100\n",
            "2027/2038 [============================>.] - ETA: 0s - loss: 1.0987 - accuracy: 0.3331\n",
            "Epoch 25: val_accuracy did not improve from 0.33795\n",
            "2038/2038 [==============================] - 11s 5ms/step - loss: 1.0987 - accuracy: 0.3330 - val_loss: 1.0986 - val_accuracy: 0.3308\n",
            "Epoch 26/100\n",
            "2033/2038 [============================>.] - ETA: 0s - loss: 1.0987 - accuracy: 0.3343\n",
            "Epoch 26: val_accuracy did not improve from 0.33795\n",
            "2038/2038 [==============================] - 11s 5ms/step - loss: 1.0987 - accuracy: 0.3343 - val_loss: 1.0987 - val_accuracy: 0.3308\n",
            "Epoch 27/100\n",
            "2031/2038 [============================>.] - ETA: 0s - loss: 1.0987 - accuracy: 0.3333\n",
            "Epoch 27: val_accuracy did not improve from 0.33795\n",
            "2038/2038 [==============================] - 12s 6ms/step - loss: 1.0987 - accuracy: 0.3333 - val_loss: 1.0986 - val_accuracy: 0.3380\n",
            "Epoch 28/100\n",
            "2034/2038 [============================>.] - ETA: 0s - loss: 1.0987 - accuracy: 0.3287\n",
            "Epoch 28: val_accuracy did not improve from 0.33795\n",
            "2038/2038 [==============================] - 12s 6ms/step - loss: 1.0987 - accuracy: 0.3286 - val_loss: 1.0986 - val_accuracy: 0.3308\n",
            "Epoch 29/100\n",
            "2029/2038 [============================>.] - ETA: 0s - loss: 1.0987 - accuracy: 0.3345\n",
            "Epoch 29: val_accuracy did not improve from 0.33795\n",
            "2038/2038 [==============================] - 12s 6ms/step - loss: 1.0987 - accuracy: 0.3346 - val_loss: 1.0986 - val_accuracy: 0.3313\n",
            "Epoch 30/100\n",
            "2029/2038 [============================>.] - ETA: 0s - loss: 1.0987 - accuracy: 0.3309\n",
            "Epoch 30: val_accuracy did not improve from 0.33795\n",
            "2038/2038 [==============================] - 11s 5ms/step - loss: 1.0987 - accuracy: 0.3311 - val_loss: 1.0986 - val_accuracy: 0.3380\n",
            "Epoch 31/100\n",
            "2033/2038 [============================>.] - ETA: 0s - loss: 1.0987 - accuracy: 0.3325\n",
            "Epoch 31: val_accuracy did not improve from 0.33795\n",
            "2038/2038 [==============================] - 11s 5ms/step - loss: 1.0987 - accuracy: 0.3324 - val_loss: 1.0986 - val_accuracy: 0.3380\n",
            "Epoch 32/100\n",
            "2028/2038 [============================>.] - ETA: 0s - loss: 1.0987 - accuracy: 0.3348\n",
            "Epoch 32: val_accuracy did not improve from 0.33795\n",
            "2038/2038 [==============================] - 12s 6ms/step - loss: 1.0987 - accuracy: 0.3345 - val_loss: 1.0987 - val_accuracy: 0.3313\n",
            "Epoch 33/100\n",
            "2038/2038 [==============================] - ETA: 0s - loss: 1.0987 - accuracy: 0.3321\n",
            "Epoch 33: val_accuracy did not improve from 0.33795\n",
            "2038/2038 [==============================] - 11s 5ms/step - loss: 1.0987 - accuracy: 0.3321 - val_loss: 1.0987 - val_accuracy: 0.3313\n",
            "Epoch 34/100\n",
            "2034/2038 [============================>.] - ETA: 0s - loss: 1.0987 - accuracy: 0.3340\n",
            "Epoch 34: val_accuracy did not improve from 0.33795\n",
            "2038/2038 [==============================] - 11s 5ms/step - loss: 1.0987 - accuracy: 0.3340 - val_loss: 1.0987 - val_accuracy: 0.3313\n",
            "Epoch 35/100\n",
            "2034/2038 [============================>.] - ETA: 0s - loss: 1.0987 - accuracy: 0.3322\n",
            "Epoch 35: val_accuracy did not improve from 0.33795\n",
            "2038/2038 [==============================] - 11s 5ms/step - loss: 1.0987 - accuracy: 0.3321 - val_loss: 1.0986 - val_accuracy: 0.3313\n",
            "Epoch 36/100\n",
            "2034/2038 [============================>.] - ETA: 0s - loss: 1.0987 - accuracy: 0.3318\n",
            "Epoch 36: val_accuracy did not improve from 0.33795\n",
            "2038/2038 [==============================] - 11s 5ms/step - loss: 1.0987 - accuracy: 0.3319 - val_loss: 1.0986 - val_accuracy: 0.3380\n",
            "Epoch 37/100\n",
            "2031/2038 [============================>.] - ETA: 0s - loss: 1.0987 - accuracy: 0.3323\n",
            "Epoch 37: val_accuracy did not improve from 0.33795\n",
            "2038/2038 [==============================] - 11s 6ms/step - loss: 1.0987 - accuracy: 0.3322 - val_loss: 1.0987 - val_accuracy: 0.3313\n",
            "Epoch 38/100\n",
            "2027/2038 [============================>.] - ETA: 0s - loss: 1.0987 - accuracy: 0.3335\n",
            "Epoch 38: val_accuracy did not improve from 0.33795\n",
            "2038/2038 [==============================] - 11s 5ms/step - loss: 1.0987 - accuracy: 0.3335 - val_loss: 1.0987 - val_accuracy: 0.3308\n",
            "Epoch 39/100\n",
            "2032/2038 [============================>.] - ETA: 0s - loss: 1.0987 - accuracy: 0.3349\n",
            "Epoch 39: val_accuracy did not improve from 0.33795\n",
            "2038/2038 [==============================] - 11s 5ms/step - loss: 1.0987 - accuracy: 0.3348 - val_loss: 1.0986 - val_accuracy: 0.3380\n",
            "Epoch 40/100\n",
            "2030/2038 [============================>.] - ETA: 0s - loss: 1.0987 - accuracy: 0.3316\n",
            "Epoch 40: val_accuracy did not improve from 0.33795\n",
            "2038/2038 [==============================] - 11s 5ms/step - loss: 1.0987 - accuracy: 0.3317 - val_loss: 1.0987 - val_accuracy: 0.3313\n",
            "Epoch 41/100\n",
            "2035/2038 [============================>.] - ETA: 0s - loss: 1.0987 - accuracy: 0.3313\n",
            "Epoch 41: val_accuracy did not improve from 0.33795\n",
            "2038/2038 [==============================] - 11s 5ms/step - loss: 1.0987 - accuracy: 0.3313 - val_loss: 1.0987 - val_accuracy: 0.3308\n",
            "Epoch 42/100\n",
            "2033/2038 [============================>.] - ETA: 0s - loss: 1.0987 - accuracy: 0.3335\n",
            "Epoch 42: val_accuracy did not improve from 0.33795\n",
            "2038/2038 [==============================] - 11s 6ms/step - loss: 1.0987 - accuracy: 0.3334 - val_loss: 1.0986 - val_accuracy: 0.3380\n",
            "Epoch 43/100\n",
            "2034/2038 [============================>.] - ETA: 0s - loss: 1.0987 - accuracy: 0.3308\n",
            "Epoch 43: val_accuracy did not improve from 0.33795\n",
            "2038/2038 [==============================] - 11s 5ms/step - loss: 1.0987 - accuracy: 0.3310 - val_loss: 1.0987 - val_accuracy: 0.3313\n",
            "Epoch 44/100\n",
            "2037/2038 [============================>.] - ETA: 0s - loss: 1.0987 - accuracy: 0.3325\n",
            "Epoch 44: val_accuracy did not improve from 0.33795\n",
            "2038/2038 [==============================] - 11s 6ms/step - loss: 1.0987 - accuracy: 0.3325 - val_loss: 1.0987 - val_accuracy: 0.3308\n",
            "Epoch 45/100\n",
            "2038/2038 [==============================] - ETA: 0s - loss: 1.0986 - accuracy: 0.3365\n",
            "Epoch 45: val_accuracy did not improve from 0.33795\n",
            "2038/2038 [==============================] - 11s 5ms/step - loss: 1.0986 - accuracy: 0.3365 - val_loss: 1.0986 - val_accuracy: 0.3308\n",
            "Epoch 46/100\n",
            "2031/2038 [============================>.] - ETA: 0s - loss: 1.0987 - accuracy: 0.3315\n",
            "Epoch 46: val_accuracy did not improve from 0.33795\n",
            "2038/2038 [==============================] - 11s 5ms/step - loss: 1.0987 - accuracy: 0.3315 - val_loss: 1.0986 - val_accuracy: 0.3380\n",
            "Epoch 47/100\n",
            "2029/2038 [============================>.] - ETA: 0s - loss: 1.0987 - accuracy: 0.3309Restoring model weights from the end of the best epoch: 27.\n",
            "\n",
            "Epoch 47: val_accuracy did not improve from 0.33795\n",
            "2038/2038 [==============================] - 11s 5ms/step - loss: 1.0987 - accuracy: 0.3308 - val_loss: 1.0986 - val_accuracy: 0.3380\n",
            "Epoch 47: early stopping\n"
          ]
        }
      ]
    },
    {
      "cell_type": "code",
      "source": [],
      "metadata": {
        "id": "5cGJ-uD5BPzI"
      },
      "execution_count": 22,
      "outputs": []
    }
  ]
}