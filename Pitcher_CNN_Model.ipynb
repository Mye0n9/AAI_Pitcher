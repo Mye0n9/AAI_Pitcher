{
  "nbformat": 4,
  "nbformat_minor": 0,
  "metadata": {
    "colab": {
      "provenance": [],
      "gpuType": "T4",
      "include_colab_link": true
    },
    "kernelspec": {
      "name": "python3",
      "display_name": "Python 3"
    },
    "language_info": {
      "name": "python"
    },
    "accelerator": "GPU"
  },
  "cells": [
    {
      "cell_type": "markdown",
      "metadata": {
        "id": "view-in-github",
        "colab_type": "text"
      },
      "source": [
        "<a href=\"https://colab.research.google.com/github/Mye0n9/AAI_Pitcher/blob/CNN_Testing/Pitcher_CNN_Model.ipynb\" target=\"_parent\"><img src=\"https://colab.research.google.com/assets/colab-badge.svg\" alt=\"Open In Colab\"/></a>"
      ]
    },
    {
      "cell_type": "code",
      "execution_count": 2,
      "metadata": {
        "id": "jGTsZG9IIVIc",
        "colab": {
          "base_uri": "https://localhost:8080/"
        },
        "outputId": "fd9b03e4-1c38-4663-93e2-7fe4174d3d94"
      },
      "outputs": [
        {
          "output_type": "stream",
          "name": "stdout",
          "text": [
            "NumPy Version :1.22.4\n",
            "TensorFlow Version :2.12.0\n",
            "Matplotlib Version :3.7.1\n"
          ]
        }
      ],
      "source": [
        "import numpy as np\n",
        "import pandas as pd\n",
        "import tensorflow as tf\n",
        "import matplotlib.pyplot as plt\n",
        "import matplotlib.image as mpimg\n",
        "import matplotlib.patches as patches\n",
        "import glob\n",
        "import cv2\n",
        "import re\n",
        "import random\n",
        "import json\n",
        "import os\n",
        "from google.colab.patches import cv2_imshow\n",
        "\n",
        "\n",
        "print(\"NumPy Version :{}\".format(np.__version__))\n",
        "print(\"TensorFlow Version :{}\".format(tf.__version__))\n",
        "print(\"Matplotlib Version :{}\".format(plt.matplotlib.__version__))"
      ]
    },
    {
      "cell_type": "markdown",
      "source": [
        "Reading Data (Pickle Data)"
      ],
      "metadata": {
        "id": "YVswXe0TIo9j"
      }
    },
    {
      "cell_type": "code",
      "source": [
        "from google.colab import drive\n",
        "drive.mount('/content/drive')"
      ],
      "metadata": {
        "colab": {
          "base_uri": "https://localhost:8080/"
        },
        "id": "KKRX0mGO-heM",
        "outputId": "3e512733-ddc2-4b95-9d06-5946f17376f1"
      },
      "execution_count": 5,
      "outputs": [
        {
          "output_type": "stream",
          "name": "stdout",
          "text": [
            "Mounted at /content/drive\n"
          ]
        }
      ]
    },
    {
      "cell_type": "code",
      "source": [
        "x_Data = []\n",
        "y_Data = []\n",
        "for i in range(120):\n",
        "  print(i)\n",
        "  if i not in [96, 136, 146, 197, 220, 223]:\n",
        "    f_path = '/content/drive/MyDrive/PKL_PITCHER/img_merged_{num}.pkl'.format(num = i)\n",
        "    df = pd.read_pickle(f_path)\n",
        "    for j in range(len(df)):\n",
        "      x_Data.append(df['wrist'][j])\n",
        "      y_Data.append(0.0)\n",
        "      x_Data.append(df['elbow'][j])\n",
        "      y_Data.append(1.0)\n",
        "      x_Data.append(df['shoulder'][j])\n",
        "      y_Data.append(2.0)\n",
        "\n",
        "x_Data = np.array(x_Data)\n",
        "y_Data = np.array(y_Data)"
      ],
      "metadata": {
        "id": "H0Eu4GsoIoxz",
        "colab": {
          "base_uri": "https://localhost:8080/"
        },
        "outputId": "679be048-bc82-4142-87eb-b47b82e312fd"
      },
      "execution_count": 6,
      "outputs": [
        {
          "output_type": "stream",
          "name": "stdout",
          "text": [
            "0\n",
            "1\n",
            "2\n",
            "3\n",
            "4\n",
            "5\n",
            "6\n",
            "7\n",
            "8\n",
            "9\n",
            "10\n",
            "11\n",
            "12\n",
            "13\n",
            "14\n",
            "15\n",
            "16\n",
            "17\n",
            "18\n",
            "19\n",
            "20\n",
            "21\n",
            "22\n",
            "23\n",
            "24\n",
            "25\n",
            "26\n",
            "27\n",
            "28\n",
            "29\n",
            "30\n",
            "31\n",
            "32\n",
            "33\n",
            "34\n",
            "35\n",
            "36\n",
            "37\n",
            "38\n",
            "39\n",
            "40\n",
            "41\n",
            "42\n",
            "43\n",
            "44\n",
            "45\n",
            "46\n",
            "47\n",
            "48\n",
            "49\n",
            "50\n",
            "51\n",
            "52\n",
            "53\n",
            "54\n",
            "55\n",
            "56\n",
            "57\n",
            "58\n",
            "59\n",
            "60\n",
            "61\n",
            "62\n",
            "63\n",
            "64\n",
            "65\n",
            "66\n",
            "67\n",
            "68\n",
            "69\n",
            "70\n",
            "71\n",
            "72\n",
            "73\n",
            "74\n",
            "75\n",
            "76\n",
            "77\n",
            "78\n",
            "79\n",
            "80\n",
            "81\n",
            "82\n",
            "83\n",
            "84\n",
            "85\n",
            "86\n",
            "87\n",
            "88\n",
            "89\n",
            "90\n",
            "91\n",
            "92\n",
            "93\n",
            "94\n",
            "95\n",
            "96\n",
            "97\n",
            "98\n",
            "99\n",
            "100\n",
            "101\n",
            "102\n",
            "103\n",
            "104\n",
            "105\n",
            "106\n",
            "107\n",
            "108\n",
            "109\n",
            "110\n",
            "111\n",
            "112\n",
            "113\n",
            "114\n",
            "115\n",
            "116\n",
            "117\n",
            "118\n",
            "119\n"
          ]
        }
      ]
    },
    {
      "cell_type": "markdown",
      "source": [
        "Train/Test split"
      ],
      "metadata": {
        "id": "oobRCSAjIiWI"
      }
    },
    {
      "cell_type": "code",
      "source": [
        "from sklearn.model_selection import train_test_split\n",
        "\n",
        "x_train, x_test, y_train, y_test = train_test_split(x_Data, y_Data, test_size=0.2, random_state=42)"
      ],
      "metadata": {
        "id": "lP0-RSQDIjAQ"
      },
      "execution_count": 7,
      "outputs": []
    },
    {
      "cell_type": "code",
      "source": [
        "# x_train = np.array(x_train)\n",
        "# x_test = np.array(x_test)\n",
        "# y_train = np.array(y_train)\n",
        "# y_test = np.array(y_test)"
      ],
      "metadata": {
        "id": "mPCjgH-9Ij_M"
      },
      "execution_count": null,
      "outputs": []
    },
    {
      "cell_type": "markdown",
      "source": [
        "Model"
      ],
      "metadata": {
        "id": "lGiBD3rfJeeD"
      }
    },
    {
      "cell_type": "code",
      "source": [
        "IMG_SIZE = 32\n",
        "n_class = 3\n",
        "model = tf.keras.models.Sequential()\n",
        "# conv 1\n",
        "model.add(tf.keras.layers.Conv2D(64,3,padding='same',activation='relu',input_shape=(IMG_SIZE,IMG_SIZE,3)))\n",
        "model.add(tf.keras.layers.Dropout(rate=0.5))                          #  DO1\n",
        "model.add(tf.keras.layers.MaxPool2D(pool_size=2, strides=2))\n",
        "# conv 2\n",
        "model.add(tf.keras.layers.Conv2D(64, 3, padding='same', activation='relu'))\n",
        "model.add(tf.keras.layers.Dropout(rate=0.5))                          # DO2\n",
        "model.add(tf.keras.layers.MaxPool2D(pool_size=2, strides=2))\n",
        "# conv 3\n",
        "model.add(tf.keras.layers.Conv2D(64, 3, padding='same', activation='relu'))\n",
        "model.add(tf.keras.layers.Dropout(rate=0.5))                           # DO3\n",
        "model.add(tf.keras.layers.MaxPool2D(pool_size=2, strides=2))\n",
        "\n",
        "# dense layers\n",
        "model.add(tf.keras.layers.Flatten())\n",
        "model.add(tf.keras.layers.Dense(n_class, activation='softmax')) \n",
        "\n",
        "model.summary()"
      ],
      "metadata": {
        "id": "nsHrPcTeJe3p",
        "colab": {
          "base_uri": "https://localhost:8080/"
        },
        "outputId": "e780c694-b180-4a43-aaaa-1615e3d4201b"
      },
      "execution_count": 4,
      "outputs": [
        {
          "output_type": "stream",
          "name": "stdout",
          "text": [
            "Model: \"sequential_1\"\n",
            "_________________________________________________________________\n",
            " Layer (type)                Output Shape              Param #   \n",
            "=================================================================\n",
            " conv2d_3 (Conv2D)           (None, 32, 32, 64)        1792      \n",
            "                                                                 \n",
            " dropout_3 (Dropout)         (None, 32, 32, 64)        0         \n",
            "                                                                 \n",
            " max_pooling2d_3 (MaxPooling  (None, 16, 16, 64)       0         \n",
            " 2D)                                                             \n",
            "                                                                 \n",
            " conv2d_4 (Conv2D)           (None, 16, 16, 64)        36928     \n",
            "                                                                 \n",
            " dropout_4 (Dropout)         (None, 16, 16, 64)        0         \n",
            "                                                                 \n",
            " max_pooling2d_4 (MaxPooling  (None, 8, 8, 64)         0         \n",
            " 2D)                                                             \n",
            "                                                                 \n",
            " conv2d_5 (Conv2D)           (None, 8, 8, 64)          36928     \n",
            "                                                                 \n",
            " dropout_5 (Dropout)         (None, 8, 8, 64)          0         \n",
            "                                                                 \n",
            " max_pooling2d_5 (MaxPooling  (None, 4, 4, 64)         0         \n",
            " 2D)                                                             \n",
            "                                                                 \n",
            " flatten_1 (Flatten)         (None, 1024)              0         \n",
            "                                                                 \n",
            " dense_1 (Dense)             (None, 3)                 3075      \n",
            "                                                                 \n",
            "=================================================================\n",
            "Total params: 78,723\n",
            "Trainable params: 78,723\n",
            "Non-trainable params: 0\n",
            "_________________________________________________________________\n"
          ]
        }
      ]
    },
    {
      "cell_type": "code",
      "source": [
        "model.compile(optimizer='SGD',\n",
        "              loss='sparse_categorical_crossentropy',\n",
        "              metrics=['accuracy'])"
      ],
      "metadata": {
        "id": "MwJSh2aoJggx"
      },
      "execution_count": 8,
      "outputs": []
    },
    {
      "cell_type": "code",
      "source": [
        "saved_model = '../files/pitcher_cnn3_model.h5'\n",
        "es = tf.keras.callbacks.EarlyStopping(monitor='val_loss', mode='min', verbose=1, patience=20,restore_best_weights=True)\n",
        "mc = tf.keras.callbacks.ModelCheckpoint(saved_model, monitor='val_accuracy', mode='max', verbose=1, save_best_only=True)"
      ],
      "metadata": {
        "id": "mkAN9ufTJhyi"
      },
      "execution_count": 9,
      "outputs": []
    },
    {
      "cell_type": "code",
      "source": [
        "history = model.fit(x_train, y_train, epochs=100,\n",
        "                      callbacks=[es,mc],\n",
        "                      validation_data=(x_test, y_test)\n",
        "                 )"
      ],
      "metadata": {
        "id": "qrPf4ZI1Ji1N",
        "colab": {
          "base_uri": "https://localhost:8080/"
        },
        "outputId": "3ca4977a-fd69-465f-df0b-4fa572a938bf"
      },
      "execution_count": 10,
      "outputs": [
        {
          "output_type": "stream",
          "name": "stdout",
          "text": [
            "Epoch 1/100\n",
            "981/981 [==============================] - ETA: 0s - loss: 1.0988 - accuracy: 0.3334\n",
            "Epoch 1: val_accuracy improved from -inf to 0.32879, saving model to ../files/pitcher_cnn3_model.h5\n",
            "981/981 [==============================] - 16s 7ms/step - loss: 1.0988 - accuracy: 0.3334 - val_loss: 1.0987 - val_accuracy: 0.3288\n",
            "Epoch 2/100\n",
            "975/981 [============================>.] - ETA: 0s - loss: 1.0987 - accuracy: 0.3371\n",
            "Epoch 2: val_accuracy improved from 0.32879 to 0.33312, saving model to ../files/pitcher_cnn3_model.h5\n",
            "981/981 [==============================] - 5s 5ms/step - loss: 1.0987 - accuracy: 0.3369 - val_loss: 1.0987 - val_accuracy: 0.3331\n",
            "Epoch 3/100\n",
            "974/981 [============================>.] - ETA: 0s - loss: 1.0988 - accuracy: 0.3308\n",
            "Epoch 3: val_accuracy did not improve from 0.33312\n",
            "981/981 [==============================] - 6s 6ms/step - loss: 1.0988 - accuracy: 0.3310 - val_loss: 1.0987 - val_accuracy: 0.3331\n",
            "Epoch 4/100\n",
            "971/981 [============================>.] - ETA: 0s - loss: 1.0987 - accuracy: 0.3310\n",
            "Epoch 4: val_accuracy did not improve from 0.33312\n",
            "981/981 [==============================] - 5s 5ms/step - loss: 1.0987 - accuracy: 0.3311 - val_loss: 1.0987 - val_accuracy: 0.3288\n",
            "Epoch 5/100\n",
            "979/981 [============================>.] - ETA: 0s - loss: 1.0988 - accuracy: 0.3293\n",
            "Epoch 5: val_accuracy did not improve from 0.33312\n",
            "981/981 [==============================] - 6s 6ms/step - loss: 1.0988 - accuracy: 0.3290 - val_loss: 1.0987 - val_accuracy: 0.3331\n",
            "Epoch 6/100\n",
            "974/981 [============================>.] - ETA: 0s - loss: 1.0988 - accuracy: 0.3330\n",
            "Epoch 6: val_accuracy did not improve from 0.33312\n",
            "981/981 [==============================] - 5s 6ms/step - loss: 1.0988 - accuracy: 0.3331 - val_loss: 1.0986 - val_accuracy: 0.3331\n",
            "Epoch 7/100\n",
            "974/981 [============================>.] - ETA: 0s - loss: 1.0987 - accuracy: 0.3330\n",
            "Epoch 7: val_accuracy improved from 0.33312 to 0.33809, saving model to ../files/pitcher_cnn3_model.h5\n",
            "981/981 [==============================] - 5s 5ms/step - loss: 1.0987 - accuracy: 0.3329 - val_loss: 1.0986 - val_accuracy: 0.3381\n",
            "Epoch 8/100\n",
            "970/981 [============================>.] - ETA: 0s - loss: 1.0986 - accuracy: 0.3356\n",
            "Epoch 8: val_accuracy did not improve from 0.33809\n",
            "981/981 [==============================] - 6s 6ms/step - loss: 1.0987 - accuracy: 0.3357 - val_loss: 1.0986 - val_accuracy: 0.3381\n",
            "Epoch 9/100\n",
            "975/981 [============================>.] - ETA: 0s - loss: 1.0987 - accuracy: 0.3365\n",
            "Epoch 9: val_accuracy did not improve from 0.33809\n",
            "981/981 [==============================] - 5s 5ms/step - loss: 1.0987 - accuracy: 0.3365 - val_loss: 1.0987 - val_accuracy: 0.3288\n",
            "Epoch 10/100\n",
            "973/981 [============================>.] - ETA: 0s - loss: 1.0987 - accuracy: 0.3363\n",
            "Epoch 10: val_accuracy did not improve from 0.33809\n",
            "981/981 [==============================] - 6s 6ms/step - loss: 1.0987 - accuracy: 0.3365 - val_loss: 1.0987 - val_accuracy: 0.3331\n",
            "Epoch 11/100\n",
            "979/981 [============================>.] - ETA: 0s - loss: 1.0987 - accuracy: 0.3304\n",
            "Epoch 11: val_accuracy did not improve from 0.33809\n",
            "981/981 [==============================] - 5s 5ms/step - loss: 1.0987 - accuracy: 0.3304 - val_loss: 1.0986 - val_accuracy: 0.3288\n",
            "Epoch 12/100\n",
            "972/981 [============================>.] - ETA: 0s - loss: 1.0987 - accuracy: 0.3284\n",
            "Epoch 12: val_accuracy did not improve from 0.33809\n",
            "981/981 [==============================] - 5s 5ms/step - loss: 1.0987 - accuracy: 0.3285 - val_loss: 1.0987 - val_accuracy: 0.3288\n",
            "Epoch 13/100\n",
            "977/981 [============================>.] - ETA: 0s - loss: 1.0987 - accuracy: 0.3336\n",
            "Epoch 13: val_accuracy did not improve from 0.33809\n",
            "981/981 [==============================] - 6s 6ms/step - loss: 1.0987 - accuracy: 0.3335 - val_loss: 1.0988 - val_accuracy: 0.3331\n",
            "Epoch 14/100\n",
            "979/981 [============================>.] - ETA: 0s - loss: 1.0986 - accuracy: 0.3362\n",
            "Epoch 14: val_accuracy did not improve from 0.33809\n",
            "981/981 [==============================] - 5s 5ms/step - loss: 1.0986 - accuracy: 0.3363 - val_loss: 1.0986 - val_accuracy: 0.3381\n",
            "Epoch 15/100\n",
            "973/981 [============================>.] - ETA: 0s - loss: 1.0987 - accuracy: 0.3319\n",
            "Epoch 15: val_accuracy did not improve from 0.33809\n",
            "981/981 [==============================] - 6s 6ms/step - loss: 1.0987 - accuracy: 0.3318 - val_loss: 1.0987 - val_accuracy: 0.3288\n",
            "Epoch 16/100\n",
            "973/981 [============================>.] - ETA: 0s - loss: 1.0987 - accuracy: 0.3313\n",
            "Epoch 16: val_accuracy did not improve from 0.33809\n",
            "981/981 [==============================] - 5s 5ms/step - loss: 1.0987 - accuracy: 0.3309 - val_loss: 1.0986 - val_accuracy: 0.3331\n",
            "Epoch 17/100\n",
            "974/981 [============================>.] - ETA: 0s - loss: 1.0987 - accuracy: 0.3332\n",
            "Epoch 17: val_accuracy did not improve from 0.33809\n",
            "981/981 [==============================] - 5s 5ms/step - loss: 1.0987 - accuracy: 0.3332 - val_loss: 1.0986 - val_accuracy: 0.3331\n",
            "Epoch 18/100\n",
            "981/981 [==============================] - ETA: 0s - loss: 1.0987 - accuracy: 0.3283\n",
            "Epoch 18: val_accuracy did not improve from 0.33809\n",
            "981/981 [==============================] - 6s 6ms/step - loss: 1.0987 - accuracy: 0.3283 - val_loss: 1.0986 - val_accuracy: 0.3288\n",
            "Epoch 19/100\n",
            "977/981 [============================>.] - ETA: 0s - loss: 1.0987 - accuracy: 0.3318\n",
            "Epoch 19: val_accuracy did not improve from 0.33809\n",
            "981/981 [==============================] - 5s 5ms/step - loss: 1.0987 - accuracy: 0.3316 - val_loss: 1.0987 - val_accuracy: 0.3288\n",
            "Epoch 20/100\n",
            "980/981 [============================>.] - ETA: 0s - loss: 1.0987 - accuracy: 0.3328\n",
            "Epoch 20: val_accuracy did not improve from 0.33809\n",
            "981/981 [==============================] - 5s 5ms/step - loss: 1.0987 - accuracy: 0.3328 - val_loss: 1.0986 - val_accuracy: 0.3381\n",
            "Epoch 21/100\n",
            "972/981 [============================>.] - ETA: 0s - loss: 1.0987 - accuracy: 0.3287\n",
            "Epoch 21: val_accuracy did not improve from 0.33809\n",
            "981/981 [==============================] - 6s 6ms/step - loss: 1.0987 - accuracy: 0.3289 - val_loss: 1.0986 - val_accuracy: 0.3331\n",
            "Epoch 22/100\n",
            "979/981 [============================>.] - ETA: 0s - loss: 1.0987 - accuracy: 0.3334\n",
            "Epoch 22: val_accuracy did not improve from 0.33809\n",
            "981/981 [==============================] - 5s 5ms/step - loss: 1.0987 - accuracy: 0.3334 - val_loss: 1.0986 - val_accuracy: 0.3331\n",
            "Epoch 23/100\n",
            "979/981 [============================>.] - ETA: 0s - loss: 1.0987 - accuracy: 0.3341\n",
            "Epoch 23: val_accuracy did not improve from 0.33809\n",
            "981/981 [==============================] - 6s 6ms/step - loss: 1.0987 - accuracy: 0.3342 - val_loss: 1.0987 - val_accuracy: 0.3288\n",
            "Epoch 24/100\n",
            "977/981 [============================>.] - ETA: 0s - loss: 1.0987 - accuracy: 0.3327\n",
            "Epoch 24: val_accuracy did not improve from 0.33809\n",
            "981/981 [==============================] - 5s 5ms/step - loss: 1.0987 - accuracy: 0.3325 - val_loss: 1.0987 - val_accuracy: 0.3288\n",
            "Epoch 25/100\n",
            "981/981 [==============================] - ETA: 0s - loss: 1.0987 - accuracy: 0.3315\n",
            "Epoch 25: val_accuracy did not improve from 0.33809\n",
            "981/981 [==============================] - 5s 5ms/step - loss: 1.0987 - accuracy: 0.3315 - val_loss: 1.0986 - val_accuracy: 0.3381\n",
            "Epoch 26/100\n",
            "977/981 [============================>.] - ETA: 0s - loss: 1.0987 - accuracy: 0.3307\n",
            "Epoch 26: val_accuracy did not improve from 0.33809\n",
            "981/981 [==============================] - 5s 6ms/step - loss: 1.0987 - accuracy: 0.3306 - val_loss: 1.0986 - val_accuracy: 0.3381\n",
            "Epoch 27/100\n",
            "978/981 [============================>.] - ETA: 0s - loss: 1.0987 - accuracy: 0.3329\n",
            "Epoch 27: val_accuracy did not improve from 0.33809\n",
            "981/981 [==============================] - 5s 5ms/step - loss: 1.0987 - accuracy: 0.3327 - val_loss: 1.0987 - val_accuracy: 0.3288\n",
            "Epoch 28/100\n",
            "979/981 [============================>.] - ETA: 0s - loss: 1.0987 - accuracy: 0.3302Restoring model weights from the end of the best epoch: 8.\n",
            "\n",
            "Epoch 28: val_accuracy did not improve from 0.33809\n",
            "981/981 [==============================] - 6s 6ms/step - loss: 1.0987 - accuracy: 0.3302 - val_loss: 1.0987 - val_accuracy: 0.3288\n",
            "Epoch 28: early stopping\n"
          ]
        }
      ]
    },
    {
      "cell_type": "code",
      "source": [],
      "metadata": {
        "id": "5cGJ-uD5BPzI"
      },
      "execution_count": null,
      "outputs": []
    }
  ]
}